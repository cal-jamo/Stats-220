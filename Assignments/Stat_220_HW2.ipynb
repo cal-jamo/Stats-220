{
  "cells": [
    {
      "cell_type": "markdown",
      "metadata": {
        "id": "ZKuGgqD1nPtw"
      },
      "source": [
        "[![Open in Colab](https://colab.research.google.com/assets/colab-badge.svg)](https://colab.research.google.com/github/drbob-richardson/stat220/blob/main/Assignments/Stat_220_HW2.ipynb)"
      ]
    },
    {
      "cell_type": "markdown",
      "metadata": {
        "id": "p0Jeg70FvG6D"
      },
      "source": [
        "**Problem 1** A baseball player has a batting average of .240 against right handed pitchers and .375 against left handed pitchers. A batting average can be thought of as the probability they will get a hit."
      ]
    },
    {
      "cell_type": "markdown",
      "metadata": {
        "id": "mjW2p9LywoQ_"
      },
      "source": [
        "Part a. What is the probability the baseball player gets 3 out of 4 hits against a right handed pitcher?"
      ]
    },
    {
      "cell_type": "code",
      "execution_count": 17,
      "metadata": {
        "id": "8-JI8OPxwu4r",
        "colab": {
          "base_uri": "https://localhost:8080/"
        },
        "outputId": "6e66baff-5bcd-4189-d7fb-fe14b4f2245a"
      },
      "outputs": [
        {
          "output_type": "stream",
          "name": "stdout",
          "text": [
            "The probability of getting 3 out of 4 hits against a right-handed pitcher is: 0.0420\n"
          ]
        }
      ],
      "source": [
        "from math import comb\n",
        "\n",
        "p_right = 0.240\n",
        "n = 4\n",
        "k = 3\n",
        "\n",
        "probability_right = comb(n, k) * (p_right ** k) * ((1 - p_right) ** (n - k))\n",
        "\n",
        "print(f\"The probability of getting 3 out of 4 hits against a right-handed pitcher is: {probability_right:.4f}\")"
      ]
    },
    {
      "cell_type": "markdown",
      "metadata": {
        "id": "iuq4VdwYwvO9"
      },
      "source": [
        "Part b. What is the probability the baseball gets 3 out of 4 hits against a left handed pitcher."
      ]
    },
    {
      "cell_type": "code",
      "execution_count": 18,
      "metadata": {
        "id": "Us2ZnQSlw0x_",
        "colab": {
          "base_uri": "https://localhost:8080/"
        },
        "outputId": "157fed06-50b9-44e7-9146-9143c92ff54e"
      },
      "outputs": [
        {
          "output_type": "stream",
          "name": "stdout",
          "text": [
            "The probability of getting 3 out of 4 hits against a left-handed pitcher is: 0.1318\n"
          ]
        }
      ],
      "source": [
        "p_left = 0.375\n",
        "n = 4\n",
        "k = 3\n",
        "\n",
        "probability_left = comb(n, k) * (p_left ** k) * ((1 - p_left) ** (n - k))\n",
        "\n",
        "print(f\"The probability of getting 3 out of 4 hits against a left-handed pitcher is: {probability_left:.4f}\")"
      ]
    },
    {
      "cell_type": "markdown",
      "metadata": {
        "id": "QXJfKQHBxgR6"
      },
      "source": [
        "Part c. The baseball player gets 3 out of 4 hits against a randomly chosen pitcher. Based on these results, what would you assume about what hand the pitcher uses?"
      ]
    },
    {
      "cell_type": "markdown",
      "metadata": {
        "id": "VeEcIBCxxqPn"
      },
      "source": [
        "We can assume that the pitcher is more likely to be lefthanded"
      ]
    },
    {
      "cell_type": "markdown",
      "metadata": {
        "id": "SDGIExslxGCv"
      },
      "source": [
        "Part d. Assume that the pitcher is randomly chosen from the team where 80% of the pitchers are right handed. Use Bayes rule to determine the probability the pitcher is right handed given that the batter hits 3 out of 4 pitches."
      ]
    },
    {
      "cell_type": "code",
      "execution_count": 19,
      "metadata": {
        "id": "n76xVOIaxsoX",
        "colab": {
          "base_uri": "https://localhost:8080/"
        },
        "outputId": "3b4db379-5c79-443c-ca7e-f35fdaa45388"
      },
      "outputs": [
        {
          "output_type": "stream",
          "name": "stdout",
          "text": [
            "The probability the pitcher is right-handed given a hit is: 0.7191\n"
          ]
        }
      ],
      "source": [
        "p_right = 0.8\n",
        "p_hit_given_right = 0.24\n",
        "p_hit_given_left = 0.375\n",
        "p_hit = p_hit_given_right * p_right + p_hit_given_left * (1 - p_right)\n",
        "\n",
        "p_right_given_hit = (p_hit_given_right * p_right) / p_hit\n",
        "\n",
        "print(f\"The probability the pitcher is right-handed given a hit is: {p_right_given_hit:.4f}\")"
      ]
    },
    {
      "cell_type": "markdown",
      "metadata": {
        "id": "u6z8NiewxxoP"
      },
      "source": [
        "**Problem 2**  \n",
        "In Arizona, the long-run probability of rain on any given day of the year is about 5%. A researcher observes that it rained three days in a row and calculates the probability of this event as follows:\n",
        "\n",
        "$$\n",
        "Pr(\\text{3 days of rain}) = Pr(\\text{rain on a day})^3 = 0.05^3 = 0.000125\n",
        "$$\n",
        "\n",
        "He concludes that this was an extremely rare event.  \n",
        "\n",
        "You are asked to critique his calculation.  \n",
        "\n",
        "**Question:** What incorrect assumption about the *relationship between consecutive days of rain* did the researcher make in this calculation, and why does that make his probability estimate misleading?  \n",
        "\n"
      ]
    },
    {
      "cell_type": "markdown",
      "metadata": {
        "id": "JldplVYsUYyA"
      },
      "source": [
        "He assumed that rainfall on different days is independent, but in fact weather patterns create dependence across consecutive days."
      ]
    },
    {
      "cell_type": "markdown",
      "metadata": {
        "id": "xOmMCaJQzUAd"
      },
      "source": [
        "**Problem 3** A stock trader is examining stocks. Let event A be the event that Stock A falls. Let event B be the event that Stock B falls. Assume the following.\n",
        "\n",
        "*   Pr(A) = 0.4\n",
        "*   Pr(B) = 0.25\n",
        "*   Pr(A and B) = 0.15\n"
      ]
    },
    {
      "cell_type": "markdown",
      "metadata": {
        "id": "cXuzb3Kn2mIh"
      },
      "source": [
        "Part a. What is the probability that either events A or B happen?"
      ]
    },
    {
      "cell_type": "code",
      "execution_count": 20,
      "metadata": {
        "id": "gdTGwVnR2qaZ",
        "colab": {
          "base_uri": "https://localhost:8080/"
        },
        "outputId": "187b34d9-5204-460e-f3d4-399a26031416"
      },
      "outputs": [
        {
          "output_type": "stream",
          "name": "stdout",
          "text": [
            "P(A or B) = 0.5\n"
          ]
        }
      ],
      "source": [
        "Pr_A = 0.4\n",
        "Pr_B = 0.25\n",
        "Pr_A_and_B = 0.15\n",
        "\n",
        "Pr_A_or_B = Pr_A + Pr_B - Pr_A_and_B\n",
        "print(\"P(A or B) =\", Pr_A_or_B)"
      ]
    },
    {
      "cell_type": "markdown",
      "metadata": {
        "id": "mmS34xQ82qyK"
      },
      "source": [
        "Part b. From this, can you make statement as to whether or not events A and B are mutually exclusive?"
      ]
    },
    {
      "cell_type": "markdown",
      "metadata": {
        "id": "H1UDz_BYnPtz"
      },
      "source": [
        "events A and B are not mutually exclusive, because there is a positive probability (15%) that both stocks fall at the same time"
      ]
    },
    {
      "cell_type": "markdown",
      "metadata": {
        "id": "qBu1zsyUnPtz"
      },
      "source": [
        "Part c. What can you say about if events A and B are independent?"
      ]
    },
    {
      "cell_type": "markdown",
      "metadata": {
        "id": "oEMamnkYnPtz"
      },
      "source": [
        "Pr(A)⋅Pr(B) = .10. Since\n",
        "0.15\n",
        "≠\n",
        "0.10, events\n",
        "A and\n",
        "B are not independent"
      ]
    },
    {
      "cell_type": "markdown",
      "metadata": {
        "id": "Uhv41ow1swdd"
      },
      "source": [
        "**Problem 4** Each time a person shops at a grocery store, the event of catching a cold or some other virus from another shopper is independent from visit to visit and has a constant probability over the year, equal to 0.01."
      ]
    },
    {
      "cell_type": "markdown",
      "metadata": {
        "id": "3cN1ISlms2X-"
      },
      "source": [
        "Part a. In 100 trips to this store over the course of a year, the probability of catching a virus while shopping there is 100(0.01) = 1.0. What is wrong with this reasoning?"
      ]
    },
    {
      "cell_type": "markdown",
      "metadata": {
        "id": "5P6uZCAss74u"
      },
      "source": [
        "The error is that the reasoning adds probabilities across trials instead of using the rules of probability for repeated independent events."
      ]
    },
    {
      "cell_type": "markdown",
      "metadata": {
        "id": "xkfLkFiys8lO"
      },
      "source": [
        "Part b. Find the correct probability in (a)."
      ]
    },
    {
      "cell_type": "code",
      "execution_count": 21,
      "metadata": {
        "id": "lCdV9U4ZWECf",
        "colab": {
          "base_uri": "https://localhost:8080/"
        },
        "outputId": "a4311aa9-a50f-4e0e-8305-f0aeac3743bf"
      },
      "outputs": [
        {
          "output_type": "stream",
          "name": "stdout",
          "text": [
            "0.6339676587267709\n"
          ]
        }
      ],
      "source": [
        "prob_no_infection = 0.99 ** 100\n",
        "prob_at_least_one = 1 - prob_no_infection\n",
        "print(prob_at_least_one)\n"
      ]
    },
    {
      "cell_type": "markdown",
      "metadata": {
        "id": "1nUUpZ8qSW3_"
      },
      "source": [
        "Part c. Determine the expected number of days someone would go to a grocery store before they catch a cold or some other virus."
      ]
    },
    {
      "cell_type": "markdown",
      "source": [
        "On average, a person would make 100 to the grocery store before catching a virus, because the expected waiting time for the first “success” in a geometric distribution with probability p = 0.01 is 1/p = 100.\n"
      ],
      "metadata": {
        "id": "DHE_TsgF0JwY"
      }
    },
    {
      "cell_type": "markdown",
      "metadata": {
        "id": "4QE2cv4juKMj"
      },
      "source": [
        "**Problem 5** A quiz has twelve multiple-choice questions, with four possible answers for each. A student who is completely unprepared randomly guesses the answer for each question. Let Y denote the number of correct responses"
      ]
    },
    {
      "cell_type": "markdown",
      "metadata": {
        "id": "Le1aWzpJnPt0"
      },
      "source": [
        "Part a. What is the name of the distribution that can be used to determine the number of questionsd guessed correctly? What are the parameters of this distribution?"
      ]
    },
    {
      "cell_type": "markdown",
      "metadata": {
        "id": "VilrPWfenPt0"
      },
      "source": [
        "Since each question is independent and has two outcomes (correct or incorrect), the number of correct answers follows a Binomial distribution. Parameters are the number of questions(12) and the probability of guessing correctly(25%)"
      ]
    },
    {
      "cell_type": "markdown",
      "metadata": {
        "id": "tWDxpF7yuZcR"
      },
      "source": [
        "Part b. Find the probability that the students gets (i) all 12, (ii) none of the questions correct."
      ]
    },
    {
      "cell_type": "code",
      "execution_count": 22,
      "metadata": {
        "id": "BIiWMzxRtpFm",
        "colab": {
          "base_uri": "https://localhost:8080/"
        },
        "outputId": "b2432b3e-e87f-4edc-e2a7-63dfd9b948fd"
      },
      "outputs": [
        {
          "output_type": "stream",
          "name": "stdout",
          "text": [
            "5.960464477539063e-08 0.03167635202407837\n"
          ]
        }
      ],
      "source": [
        "n = 12\n",
        "p = 0.25\n",
        "\n",
        "# All correct\n",
        "P_all_correct = comb(n, 12) * (p**12) * ((1-p)**0)\n",
        "\n",
        "# None correct\n",
        "P_none_correct = comb(n, 0) * (p**0) * ((1-p)**12)\n",
        "\n",
        "print(P_all_correct, P_none_correct)\n"
      ]
    },
    {
      "cell_type": "markdown",
      "metadata": {
        "id": "7KVwwmeJnPt0"
      },
      "source": [
        "Part c. What is the expected value and variance of the number of questions guessed correctly?"
      ]
    },
    {
      "cell_type": "code",
      "execution_count": 23,
      "metadata": {
        "colab": {
          "base_uri": "https://localhost:8080/"
        },
        "id": "_UOcy4QlnPt0",
        "outputId": "f71fddfe-4d71-490c-f568-7fb1295b95c4"
      },
      "outputs": [
        {
          "output_type": "stream",
          "name": "stdout",
          "text": [
            "Expected value: 3.0\n",
            "Variance: 2.25\n"
          ]
        }
      ],
      "source": [
        "n = 12\n",
        "p = 0.25\n",
        "\n",
        "# Expected value\n",
        "expected_value = n * p\n",
        "\n",
        "# Variance\n",
        "variance = n * p * (1 - p)\n",
        "\n",
        "print(\"Expected value:\", expected_value)\n",
        "print(\"Variance:\", variance)\n"
      ]
    }
  ],
  "metadata": {
    "colab": {
      "provenance": []
    },
    "kernelspec": {
      "display_name": "Python 3",
      "name": "python3"
    },
    "language_info": {
      "name": "python"
    }
  },
  "nbformat": 4,
  "nbformat_minor": 0
}